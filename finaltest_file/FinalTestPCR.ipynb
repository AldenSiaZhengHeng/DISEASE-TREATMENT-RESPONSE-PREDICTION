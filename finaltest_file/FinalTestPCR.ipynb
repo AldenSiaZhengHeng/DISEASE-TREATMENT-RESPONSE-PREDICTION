{
 "cells": [
  {
   "cell_type": "markdown",
   "id": "dc0a56c1",
   "metadata": {},
   "source": [
    "# Import the python library"
   ]
  },
  {
   "cell_type": "code",
   "execution_count": 1,
   "id": "bab3076c",
   "metadata": {},
   "outputs": [],
   "source": [
    "import pandas as pd\n"
   ]
  },
  {
   "cell_type": "markdown",
   "id": "a1abf69b",
   "metadata": {},
   "source": [
    "# Load the test dataset to predict"
   ]
  },
  {
   "cell_type": "code",
   "execution_count": 2,
   "id": "e6fce412",
   "metadata": {},
   "outputs": [
    {
     "data": {
      "text/html": [
       "<div>\n",
       "<style scoped>\n",
       "    .dataframe tbody tr th:only-of-type {\n",
       "        vertical-align: middle;\n",
       "    }\n",
       "\n",
       "    .dataframe tbody tr th {\n",
       "        vertical-align: top;\n",
       "    }\n",
       "\n",
       "    .dataframe thead th {\n",
       "        text-align: right;\n",
       "    }\n",
       "</style>\n",
       "<table border=\"1\" class=\"dataframe\">\n",
       "  <thead>\n",
       "    <tr style=\"text-align: right;\">\n",
       "      <th></th>\n",
       "      <th>ID</th>\n",
       "      <th>Age</th>\n",
       "      <th>ER</th>\n",
       "      <th>PgR</th>\n",
       "      <th>HER2</th>\n",
       "      <th>TrippleNegative</th>\n",
       "      <th>ChemoGrade</th>\n",
       "      <th>Proliferation</th>\n",
       "      <th>HistologyType</th>\n",
       "      <th>LNStatus</th>\n",
       "      <th>...</th>\n",
       "      <th>original_glszm_SmallAreaHighGrayLevelEmphasis</th>\n",
       "      <th>original_glszm_SmallAreaLowGrayLevelEmphasis</th>\n",
       "      <th>original_glszm_ZoneEntropy</th>\n",
       "      <th>original_glszm_ZonePercentage</th>\n",
       "      <th>original_glszm_ZoneVariance</th>\n",
       "      <th>original_ngtdm_Busyness</th>\n",
       "      <th>original_ngtdm_Coarseness</th>\n",
       "      <th>original_ngtdm_Complexity</th>\n",
       "      <th>original_ngtdm_Contrast</th>\n",
       "      <th>original_ngtdm_Strength</th>\n",
       "    </tr>\n",
       "  </thead>\n",
       "  <tbody>\n",
       "    <tr>\n",
       "      <th>0</th>\n",
       "      <td>TRG002728</td>\n",
       "      <td>56.881588</td>\n",
       "      <td>0</td>\n",
       "      <td>0</td>\n",
       "      <td>0</td>\n",
       "      <td>1</td>\n",
       "      <td>3</td>\n",
       "      <td>3</td>\n",
       "      <td>999</td>\n",
       "      <td>0</td>\n",
       "      <td>...</td>\n",
       "      <td>0.194591</td>\n",
       "      <td>0.194591</td>\n",
       "      <td>2.846439</td>\n",
       "      <td>0.001281</td>\n",
       "      <td>4.168474e+06</td>\n",
       "      <td>131.044541</td>\n",
       "      <td>0.002335</td>\n",
       "      <td>0.109755</td>\n",
       "      <td>0.013383</td>\n",
       "      <td>0.002051</td>\n",
       "    </tr>\n",
       "    <tr>\n",
       "      <th>1</th>\n",
       "      <td>TRG002649</td>\n",
       "      <td>60.000000</td>\n",
       "      <td>0</td>\n",
       "      <td>0</td>\n",
       "      <td>1</td>\n",
       "      <td>0</td>\n",
       "      <td>2</td>\n",
       "      <td>1</td>\n",
       "      <td>1</td>\n",
       "      <td>0</td>\n",
       "      <td>...</td>\n",
       "      <td>0.309999</td>\n",
       "      <td>0.309996</td>\n",
       "      <td>2.975317</td>\n",
       "      <td>0.007253</td>\n",
       "      <td>1.736585e+05</td>\n",
       "      <td>23.967478</td>\n",
       "      <td>0.011285</td>\n",
       "      <td>0.055890</td>\n",
       "      <td>0.003163</td>\n",
       "      <td>0.009553</td>\n",
       "    </tr>\n",
       "    <tr>\n",
       "      <th>2</th>\n",
       "      <td>TRG002628</td>\n",
       "      <td>58.234086</td>\n",
       "      <td>0</td>\n",
       "      <td>0</td>\n",
       "      <td>0</td>\n",
       "      <td>1</td>\n",
       "      <td>3</td>\n",
       "      <td>3</td>\n",
       "      <td>1</td>\n",
       "      <td>1</td>\n",
       "      <td>...</td>\n",
       "      <td>0.328377</td>\n",
       "      <td>0.328377</td>\n",
       "      <td>3.785966</td>\n",
       "      <td>0.003185</td>\n",
       "      <td>3.607821e+06</td>\n",
       "      <td>223.279556</td>\n",
       "      <td>0.001334</td>\n",
       "      <td>0.101628</td>\n",
       "      <td>0.010844</td>\n",
       "      <td>0.001194</td>\n",
       "    </tr>\n",
       "  </tbody>\n",
       "</table>\n",
       "<p>3 rows × 118 columns</p>\n",
       "</div>"
      ],
      "text/plain": [
       "          ID        Age  ER  PgR  HER2  TrippleNegative  ChemoGrade  \\\n",
       "0  TRG002728  56.881588   0    0     0                1           3   \n",
       "1  TRG002649  60.000000   0    0     1                0           2   \n",
       "2  TRG002628  58.234086   0    0     0                1           3   \n",
       "\n",
       "   Proliferation  HistologyType  LNStatus  ...  \\\n",
       "0              3            999         0  ...   \n",
       "1              1              1         0  ...   \n",
       "2              3              1         1  ...   \n",
       "\n",
       "   original_glszm_SmallAreaHighGrayLevelEmphasis  \\\n",
       "0                                       0.194591   \n",
       "1                                       0.309999   \n",
       "2                                       0.328377   \n",
       "\n",
       "   original_glszm_SmallAreaLowGrayLevelEmphasis  original_glszm_ZoneEntropy  \\\n",
       "0                                      0.194591                    2.846439   \n",
       "1                                      0.309996                    2.975317   \n",
       "2                                      0.328377                    3.785966   \n",
       "\n",
       "   original_glszm_ZonePercentage  original_glszm_ZoneVariance  \\\n",
       "0                       0.001281                 4.168474e+06   \n",
       "1                       0.007253                 1.736585e+05   \n",
       "2                       0.003185                 3.607821e+06   \n",
       "\n",
       "   original_ngtdm_Busyness  original_ngtdm_Coarseness  \\\n",
       "0               131.044541                   0.002335   \n",
       "1                23.967478                   0.011285   \n",
       "2               223.279556                   0.001334   \n",
       "\n",
       "   original_ngtdm_Complexity  original_ngtdm_Contrast  original_ngtdm_Strength  \n",
       "0                   0.109755                 0.013383                 0.002051  \n",
       "1                   0.055890                 0.003163                 0.009553  \n",
       "2                   0.101628                 0.010844                 0.001194  \n",
       "\n",
       "[3 rows x 118 columns]"
      ]
     },
     "execution_count": 2,
     "metadata": {},
     "output_type": "execute_result"
    }
   ],
   "source": [
    "all_df=pd.read_excel(\"testDatasetExample.xls\",index_col=None)\n",
    "all_df"
   ]
  },
  {
   "cell_type": "markdown",
   "id": "4c1dd3f1",
   "metadata": {},
   "source": [
    "# Remove the row that contain missing value"
   ]
  },
  {
   "cell_type": "code",
   "execution_count": 3,
   "id": "56beb97a",
   "metadata": {},
   "outputs": [
    {
     "data": {
      "text/html": [
       "<div>\n",
       "<style scoped>\n",
       "    .dataframe tbody tr th:only-of-type {\n",
       "        vertical-align: middle;\n",
       "    }\n",
       "\n",
       "    .dataframe tbody tr th {\n",
       "        vertical-align: top;\n",
       "    }\n",
       "\n",
       "    .dataframe thead th {\n",
       "        text-align: right;\n",
       "    }\n",
       "</style>\n",
       "<table border=\"1\" class=\"dataframe\">\n",
       "  <thead>\n",
       "    <tr style=\"text-align: right;\">\n",
       "      <th></th>\n",
       "      <th>ID</th>\n",
       "      <th>Age</th>\n",
       "      <th>ER</th>\n",
       "      <th>PgR</th>\n",
       "      <th>HER2</th>\n",
       "      <th>TrippleNegative</th>\n",
       "      <th>ChemoGrade</th>\n",
       "      <th>Proliferation</th>\n",
       "      <th>HistologyType</th>\n",
       "      <th>LNStatus</th>\n",
       "      <th>...</th>\n",
       "      <th>original_glszm_SmallAreaHighGrayLevelEmphasis</th>\n",
       "      <th>original_glszm_SmallAreaLowGrayLevelEmphasis</th>\n",
       "      <th>original_glszm_ZoneEntropy</th>\n",
       "      <th>original_glszm_ZonePercentage</th>\n",
       "      <th>original_glszm_ZoneVariance</th>\n",
       "      <th>original_ngtdm_Busyness</th>\n",
       "      <th>original_ngtdm_Coarseness</th>\n",
       "      <th>original_ngtdm_Complexity</th>\n",
       "      <th>original_ngtdm_Contrast</th>\n",
       "      <th>original_ngtdm_Strength</th>\n",
       "    </tr>\n",
       "  </thead>\n",
       "  <tbody>\n",
       "    <tr>\n",
       "      <th>1</th>\n",
       "      <td>TRG002649</td>\n",
       "      <td>60.000000</td>\n",
       "      <td>0</td>\n",
       "      <td>0</td>\n",
       "      <td>1</td>\n",
       "      <td>0</td>\n",
       "      <td>2</td>\n",
       "      <td>1</td>\n",
       "      <td>1</td>\n",
       "      <td>0</td>\n",
       "      <td>...</td>\n",
       "      <td>0.309999</td>\n",
       "      <td>0.309996</td>\n",
       "      <td>2.975317</td>\n",
       "      <td>0.007253</td>\n",
       "      <td>1.736585e+05</td>\n",
       "      <td>23.967478</td>\n",
       "      <td>0.011285</td>\n",
       "      <td>0.055890</td>\n",
       "      <td>0.003163</td>\n",
       "      <td>0.009553</td>\n",
       "    </tr>\n",
       "    <tr>\n",
       "      <th>2</th>\n",
       "      <td>TRG002628</td>\n",
       "      <td>58.234086</td>\n",
       "      <td>0</td>\n",
       "      <td>0</td>\n",
       "      <td>0</td>\n",
       "      <td>1</td>\n",
       "      <td>3</td>\n",
       "      <td>3</td>\n",
       "      <td>1</td>\n",
       "      <td>1</td>\n",
       "      <td>...</td>\n",
       "      <td>0.328377</td>\n",
       "      <td>0.328377</td>\n",
       "      <td>3.785966</td>\n",
       "      <td>0.003185</td>\n",
       "      <td>3.607821e+06</td>\n",
       "      <td>223.279556</td>\n",
       "      <td>0.001334</td>\n",
       "      <td>0.101628</td>\n",
       "      <td>0.010844</td>\n",
       "      <td>0.001194</td>\n",
       "    </tr>\n",
       "  </tbody>\n",
       "</table>\n",
       "<p>2 rows × 118 columns</p>\n",
       "</div>"
      ],
      "text/plain": [
       "          ID        Age  ER  PgR  HER2  TrippleNegative  ChemoGrade  \\\n",
       "1  TRG002649  60.000000   0    0     1                0           2   \n",
       "2  TRG002628  58.234086   0    0     0                1           3   \n",
       "\n",
       "   Proliferation  HistologyType  LNStatus  ...  \\\n",
       "1              1              1         0  ...   \n",
       "2              3              1         1  ...   \n",
       "\n",
       "   original_glszm_SmallAreaHighGrayLevelEmphasis  \\\n",
       "1                                       0.309999   \n",
       "2                                       0.328377   \n",
       "\n",
       "   original_glszm_SmallAreaLowGrayLevelEmphasis  original_glszm_ZoneEntropy  \\\n",
       "1                                      0.309996                    2.975317   \n",
       "2                                      0.328377                    3.785966   \n",
       "\n",
       "   original_glszm_ZonePercentage  original_glszm_ZoneVariance  \\\n",
       "1                       0.007253                 1.736585e+05   \n",
       "2                       0.003185                 3.607821e+06   \n",
       "\n",
       "   original_ngtdm_Busyness  original_ngtdm_Coarseness  \\\n",
       "1                23.967478                   0.011285   \n",
       "2               223.279556                   0.001334   \n",
       "\n",
       "   original_ngtdm_Complexity  original_ngtdm_Contrast  original_ngtdm_Strength  \n",
       "1                   0.055890                 0.003163                 0.009553  \n",
       "2                   0.101628                 0.010844                 0.001194  \n",
       "\n",
       "[2 rows x 118 columns]"
      ]
     },
     "execution_count": 3,
     "metadata": {},
     "output_type": "execute_result"
    }
   ],
   "source": [
    "cleaned_data = all_df[~all_df.eq(999).any(axis=1)]\n",
    "cleaned_data"
   ]
  },
  {
   "cell_type": "markdown",
   "id": "9cd52146",
   "metadata": {},
   "source": [
    "# Store the ID column to re-attach back to the result"
   ]
  },
  {
   "cell_type": "code",
   "execution_count": 4,
   "id": "4dd43ee2",
   "metadata": {},
   "outputs": [
    {
     "data": {
      "text/plain": [
       "1    TRG002649\n",
       "2    TRG002628\n",
       "Name: ID, dtype: object"
      ]
     },
     "execution_count": 4,
     "metadata": {},
     "output_type": "execute_result"
    }
   ],
   "source": [
    "ID = cleaned_data['ID']\n",
    "ID"
   ]
  },
  {
   "cell_type": "code",
   "execution_count": 5,
   "id": "c278055a",
   "metadata": {},
   "outputs": [
    {
     "data": {
      "text/html": [
       "<div>\n",
       "<style scoped>\n",
       "    .dataframe tbody tr th:only-of-type {\n",
       "        vertical-align: middle;\n",
       "    }\n",
       "\n",
       "    .dataframe tbody tr th {\n",
       "        vertical-align: top;\n",
       "    }\n",
       "\n",
       "    .dataframe thead th {\n",
       "        text-align: right;\n",
       "    }\n",
       "</style>\n",
       "<table border=\"1\" class=\"dataframe\">\n",
       "  <thead>\n",
       "    <tr style=\"text-align: right;\">\n",
       "      <th></th>\n",
       "      <th>Age</th>\n",
       "      <th>ER</th>\n",
       "      <th>PgR</th>\n",
       "      <th>HER2</th>\n",
       "      <th>TrippleNegative</th>\n",
       "      <th>ChemoGrade</th>\n",
       "      <th>Proliferation</th>\n",
       "      <th>HistologyType</th>\n",
       "      <th>LNStatus</th>\n",
       "      <th>TumourStage</th>\n",
       "      <th>...</th>\n",
       "      <th>original_glszm_SmallAreaHighGrayLevelEmphasis</th>\n",
       "      <th>original_glszm_SmallAreaLowGrayLevelEmphasis</th>\n",
       "      <th>original_glszm_ZoneEntropy</th>\n",
       "      <th>original_glszm_ZonePercentage</th>\n",
       "      <th>original_glszm_ZoneVariance</th>\n",
       "      <th>original_ngtdm_Busyness</th>\n",
       "      <th>original_ngtdm_Coarseness</th>\n",
       "      <th>original_ngtdm_Complexity</th>\n",
       "      <th>original_ngtdm_Contrast</th>\n",
       "      <th>original_ngtdm_Strength</th>\n",
       "    </tr>\n",
       "  </thead>\n",
       "  <tbody>\n",
       "    <tr>\n",
       "      <th>1</th>\n",
       "      <td>60.000000</td>\n",
       "      <td>0</td>\n",
       "      <td>0</td>\n",
       "      <td>1</td>\n",
       "      <td>0</td>\n",
       "      <td>2</td>\n",
       "      <td>1</td>\n",
       "      <td>1</td>\n",
       "      <td>0</td>\n",
       "      <td>3</td>\n",
       "      <td>...</td>\n",
       "      <td>0.309999</td>\n",
       "      <td>0.309996</td>\n",
       "      <td>2.975317</td>\n",
       "      <td>0.007253</td>\n",
       "      <td>1.736585e+05</td>\n",
       "      <td>23.967478</td>\n",
       "      <td>0.011285</td>\n",
       "      <td>0.055890</td>\n",
       "      <td>0.003163</td>\n",
       "      <td>0.009553</td>\n",
       "    </tr>\n",
       "    <tr>\n",
       "      <th>2</th>\n",
       "      <td>58.234086</td>\n",
       "      <td>0</td>\n",
       "      <td>0</td>\n",
       "      <td>0</td>\n",
       "      <td>1</td>\n",
       "      <td>3</td>\n",
       "      <td>3</td>\n",
       "      <td>1</td>\n",
       "      <td>1</td>\n",
       "      <td>4</td>\n",
       "      <td>...</td>\n",
       "      <td>0.328377</td>\n",
       "      <td>0.328377</td>\n",
       "      <td>3.785966</td>\n",
       "      <td>0.003185</td>\n",
       "      <td>3.607821e+06</td>\n",
       "      <td>223.279556</td>\n",
       "      <td>0.001334</td>\n",
       "      <td>0.101628</td>\n",
       "      <td>0.010844</td>\n",
       "      <td>0.001194</td>\n",
       "    </tr>\n",
       "  </tbody>\n",
       "</table>\n",
       "<p>2 rows × 117 columns</p>\n",
       "</div>"
      ],
      "text/plain": [
       "         Age  ER  PgR  HER2  TrippleNegative  ChemoGrade  Proliferation  \\\n",
       "1  60.000000   0    0     1                0           2              1   \n",
       "2  58.234086   0    0     0                1           3              3   \n",
       "\n",
       "   HistologyType  LNStatus  TumourStage  ...  \\\n",
       "1              1         0            3  ...   \n",
       "2              1         1            4  ...   \n",
       "\n",
       "   original_glszm_SmallAreaHighGrayLevelEmphasis  \\\n",
       "1                                       0.309999   \n",
       "2                                       0.328377   \n",
       "\n",
       "   original_glszm_SmallAreaLowGrayLevelEmphasis  original_glszm_ZoneEntropy  \\\n",
       "1                                      0.309996                    2.975317   \n",
       "2                                      0.328377                    3.785966   \n",
       "\n",
       "   original_glszm_ZonePercentage  original_glszm_ZoneVariance  \\\n",
       "1                       0.007253                 1.736585e+05   \n",
       "2                       0.003185                 3.607821e+06   \n",
       "\n",
       "   original_ngtdm_Busyness  original_ngtdm_Coarseness  \\\n",
       "1                23.967478                   0.011285   \n",
       "2               223.279556                   0.001334   \n",
       "\n",
       "   original_ngtdm_Complexity  original_ngtdm_Contrast  original_ngtdm_Strength  \n",
       "1                   0.055890                 0.003163                 0.009553  \n",
       "2                   0.101628                 0.010844                 0.001194  \n",
       "\n",
       "[2 rows x 117 columns]"
      ]
     },
     "execution_count": 5,
     "metadata": {},
     "output_type": "execute_result"
    }
   ],
   "source": [
    "X = cleaned_data.drop('ID',axis=1)\n",
    "X"
   ]
  },
  {
   "cell_type": "markdown",
   "id": "114282be",
   "metadata": {},
   "source": [
    "# Read the file that contain the feature name selected from train model"
   ]
  },
  {
   "cell_type": "code",
   "execution_count": 6,
   "id": "ba162436",
   "metadata": {},
   "outputs": [
    {
     "data": {
      "text/plain": [
       "(7, 1)"
      ]
     },
     "execution_count": 6,
     "metadata": {},
     "output_type": "execute_result"
    }
   ],
   "source": [
    "selected_feature=pd.read_csv(\"MLP_LinearSVC_best_feature.csv\")\n",
    "selected_feature.shape"
   ]
  },
  {
   "cell_type": "code",
   "execution_count": 7,
   "id": "a67e3aa2",
   "metadata": {},
   "outputs": [
    {
     "data": {
      "text/plain": [
       "0                                       ER\n",
       "1                                      PgR\n",
       "2                                     HER2\n",
       "3                            Proliferation\n",
       "4                                 LNStatus\n",
       "5         original_firstorder_10Percentile\n",
       "6    original_gldm_LargeDependenceEmphasis\n",
       "Name: best_features, dtype: object"
      ]
     },
     "execution_count": 7,
     "metadata": {},
     "output_type": "execute_result"
    }
   ],
   "source": [
    "best_feature = selected_feature['best_features']\n",
    "best_feature"
   ]
  },
  {
   "cell_type": "code",
   "execution_count": 8,
   "id": "1f100bfc",
   "metadata": {},
   "outputs": [
    {
     "data": {
      "text/html": [
       "<div>\n",
       "<style scoped>\n",
       "    .dataframe tbody tr th:only-of-type {\n",
       "        vertical-align: middle;\n",
       "    }\n",
       "\n",
       "    .dataframe tbody tr th {\n",
       "        vertical-align: top;\n",
       "    }\n",
       "\n",
       "    .dataframe thead th {\n",
       "        text-align: right;\n",
       "    }\n",
       "</style>\n",
       "<table border=\"1\" class=\"dataframe\">\n",
       "  <thead>\n",
       "    <tr style=\"text-align: right;\">\n",
       "      <th></th>\n",
       "      <th>ER</th>\n",
       "      <th>PgR</th>\n",
       "      <th>HER2</th>\n",
       "      <th>Proliferation</th>\n",
       "      <th>LNStatus</th>\n",
       "      <th>original_firstorder_10Percentile</th>\n",
       "      <th>original_gldm_LargeDependenceEmphasis</th>\n",
       "    </tr>\n",
       "  </thead>\n",
       "  <tbody>\n",
       "    <tr>\n",
       "      <th>1</th>\n",
       "      <td>0</td>\n",
       "      <td>0</td>\n",
       "      <td>1</td>\n",
       "      <td>1</td>\n",
       "      <td>0</td>\n",
       "      <td>0.346204</td>\n",
       "      <td>457.809209</td>\n",
       "    </tr>\n",
       "    <tr>\n",
       "      <th>2</th>\n",
       "      <td>0</td>\n",
       "      <td>0</td>\n",
       "      <td>0</td>\n",
       "      <td>3</td>\n",
       "      <td>1</td>\n",
       "      <td>-0.040551</td>\n",
       "      <td>513.261164</td>\n",
       "    </tr>\n",
       "  </tbody>\n",
       "</table>\n",
       "</div>"
      ],
      "text/plain": [
       "   ER  PgR  HER2  Proliferation  LNStatus  original_firstorder_10Percentile  \\\n",
       "1   0    0     1              1         0                          0.346204   \n",
       "2   0    0     0              3         1                         -0.040551   \n",
       "\n",
       "   original_gldm_LargeDependenceEmphasis  \n",
       "1                             457.809209  \n",
       "2                             513.261164  "
      ]
     },
     "execution_count": 8,
     "metadata": {},
     "output_type": "execute_result"
    }
   ],
   "source": [
    "X = X[best_feature]\n",
    "X"
   ]
  },
  {
   "cell_type": "markdown",
   "id": "acfc976b",
   "metadata": {},
   "source": [
    "# Normalize the data before prediction"
   ]
  },
  {
   "cell_type": "code",
   "execution_count": 9,
   "id": "7d0c7d66",
   "metadata": {},
   "outputs": [
    {
     "data": {
      "text/plain": [
       "array([[ 0.,  0.,  1., -1., -1.,  1., -1.],\n",
       "       [ 0.,  0., -1.,  1.,  1., -1.,  1.]])"
      ]
     },
     "execution_count": 9,
     "metadata": {},
     "output_type": "execute_result"
    }
   ],
   "source": [
    "from sklearn.preprocessing import StandardScaler\n",
    "\n",
    "scaler = StandardScaler()\n",
    "Xs = scaler.fit_transform(X)\n",
    "Xs"
   ]
  },
  {
   "cell_type": "markdown",
   "id": "8e43b471",
   "metadata": {},
   "source": [
    "# Load the trained_best_model"
   ]
  },
  {
   "cell_type": "code",
   "execution_count": 10,
   "id": "7260d48f",
   "metadata": {},
   "outputs": [],
   "source": [
    "import pickle\n",
    "\n",
    "filename = 'MLP_linearSVC_best_model.sav'\n",
    "loaded_model = pickle.load(open(filename,'rb'))"
   ]
  },
  {
   "cell_type": "markdown",
   "id": "ec969235",
   "metadata": {},
   "source": [
    "# Predict the unseen dataset"
   ]
  },
  {
   "cell_type": "code",
   "execution_count": 11,
   "id": "bec80b02",
   "metadata": {},
   "outputs": [
    {
     "data": {
      "text/plain": [
       "array([0., 0.])"
      ]
     },
     "execution_count": 11,
     "metadata": {},
     "output_type": "execute_result"
    }
   ],
   "source": [
    "result = loaded_model.predict(Xs)\n",
    "result"
   ]
  },
  {
   "cell_type": "markdown",
   "id": "4dceef61",
   "metadata": {},
   "source": [
    "# Show the prediction result"
   ]
  },
  {
   "cell_type": "code",
   "execution_count": 12,
   "id": "ca5c7084",
   "metadata": {},
   "outputs": [],
   "source": [
    "# pd.options.display.min_rows = 1000\n",
    "\n",
    "# res = ID.to_frame('ID')\n",
    "# res.insert(1,'Predicted Value of PCR',result)\n",
    "# res"
   ]
  },
  {
   "cell_type": "code",
   "execution_count": 13,
   "id": "df5b6494",
   "metadata": {},
   "outputs": [
    {
     "data": {
      "text/html": [
       "<div>\n",
       "<style scoped>\n",
       "    .dataframe tbody tr th:only-of-type {\n",
       "        vertical-align: middle;\n",
       "    }\n",
       "\n",
       "    .dataframe tbody tr th {\n",
       "        vertical-align: top;\n",
       "    }\n",
       "\n",
       "    .dataframe thead th {\n",
       "        text-align: right;\n",
       "    }\n",
       "</style>\n",
       "<table border=\"1\" class=\"dataframe\">\n",
       "  <thead>\n",
       "    <tr style=\"text-align: right;\">\n",
       "      <th></th>\n",
       "      <th>ID</th>\n",
       "      <th>Predicted PCR</th>\n",
       "    </tr>\n",
       "  </thead>\n",
       "  <tbody>\n",
       "    <tr>\n",
       "      <th>1</th>\n",
       "      <td>TRG002649</td>\n",
       "      <td>0.0</td>\n",
       "    </tr>\n",
       "    <tr>\n",
       "      <th>2</th>\n",
       "      <td>TRG002628</td>\n",
       "      <td>0.0</td>\n",
       "    </tr>\n",
       "  </tbody>\n",
       "</table>\n",
       "</div>"
      ],
      "text/plain": [
       "          ID  Predicted PCR\n",
       "1  TRG002649            0.0\n",
       "2  TRG002628            0.0"
      ]
     },
     "execution_count": 13,
     "metadata": {},
     "output_type": "execute_result"
    }
   ],
   "source": [
    "pred_data = pd.DataFrame({'ID':ID,'Predicted PCR':result})\n",
    "pred_data\n"
   ]
  },
  {
   "cell_type": "markdown",
   "id": "bfe3f4d0",
   "metadata": {},
   "source": [
    "# Save the result that attach with ID to csv file"
   ]
  },
  {
   "cell_type": "code",
   "execution_count": 14,
   "id": "9c67feed",
   "metadata": {},
   "outputs": [],
   "source": [
    "pred_data.to_csv(\"FinalTestPCR_result.csv\",index=False)"
   ]
  },
  {
   "cell_type": "code",
   "execution_count": null,
   "id": "11b87a90",
   "metadata": {},
   "outputs": [],
   "source": []
  }
 ],
 "metadata": {
  "kernelspec": {
   "display_name": "Python 3 (ipykernel)",
   "language": "python",
   "name": "python3"
  },
  "language_info": {
   "codemirror_mode": {
    "name": "ipython",
    "version": 3
   },
   "file_extension": ".py",
   "mimetype": "text/x-python",
   "name": "python",
   "nbconvert_exporter": "python",
   "pygments_lexer": "ipython3",
   "version": "3.7.13"
  }
 },
 "nbformat": 4,
 "nbformat_minor": 5
}
